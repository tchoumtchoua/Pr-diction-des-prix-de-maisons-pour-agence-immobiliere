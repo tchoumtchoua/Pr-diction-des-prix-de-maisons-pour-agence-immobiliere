{
 "cells": [
  {
   "cell_type": "code",
   "execution_count": 2,
   "id": "d1896d0f",
   "metadata": {},
   "outputs": [],
   "source": [
    "# Importation des bibliothèques\n",
    "import pandas as pd\n",
    "import numpy as np\n",
    "from sklearn import linear_model\n",
    "from sklearn.model_selection import train_test_split\n",
    "\n"
   ]
  },
  {
   "cell_type": "code",
   "execution_count": 3,
   "id": "f8e01a32",
   "metadata": {},
   "outputs": [
    {
     "name": "stderr",
     "output_type": "stream",
     "text": [
      "C:\\ProgramData\\Anaconda3\\lib\\site-packages\\sklearn\\utils\\deprecation.py:87: FutureWarning: Function load_boston is deprecated; `load_boston` is deprecated in 1.0 and will be removed in 1.2.\n",
      "\n",
      "    The Boston housing prices dataset has an ethical problem. You can refer to\n",
      "    the documentation of this function for further details.\n",
      "\n",
      "    The scikit-learn maintainers therefore strongly discourage the use of this\n",
      "    dataset unless the purpose of the code is to study and educate about\n",
      "    ethical issues in data science and machine learning.\n",
      "\n",
      "    In this special case, you can fetch the dataset from the original\n",
      "    source::\n",
      "\n",
      "        import pandas as pd\n",
      "        import numpy as np\n",
      "\n",
      "\n",
      "        data_url = \"http://lib.stat.cmu.edu/datasets/boston\"\n",
      "        raw_df = pd.read_csv(data_url, sep=\"\\s+\", skiprows=22, header=None)\n",
      "        data = np.hstack([raw_df.values[::2, :], raw_df.values[1::2, :2]])\n",
      "        target = raw_df.values[1::2, 2]\n",
      "\n",
      "    Alternative datasets include the California housing dataset (i.e.\n",
      "    :func:`~sklearn.datasets.fetch_california_housing`) and the Ames housing\n",
      "    dataset. You can load the datasets as follows::\n",
      "\n",
      "        from sklearn.datasets import fetch_california_housing\n",
      "        housing = fetch_california_housing()\n",
      "\n",
      "    for the California housing dataset and::\n",
      "\n",
      "        from sklearn.datasets import fetch_openml\n",
      "        housing = fetch_openml(name=\"house_prices\", as_frame=True)\n",
      "\n",
      "    for the Ames housing dataset.\n",
      "    \n",
      "  warnings.warn(msg, category=FutureWarning)\n"
     ]
    },
    {
     "data": {
      "text/plain": [
       "dict_keys(['data', 'target', 'feature_names', 'DESCR', 'filename', 'data_module'])"
      ]
     },
     "execution_count": 3,
     "metadata": {},
     "output_type": "execute_result"
    }
   ],
   "source": [
    "#Importation de la base de données\n",
    "from sklearn.datasets import load_boston\n",
    "boston = load_boston()\n",
    "boston.keys()"
   ]
  },
  {
   "cell_type": "code",
   "execution_count": 4,
   "id": "90e59f49",
   "metadata": {},
   "outputs": [
    {
     "data": {
      "text/plain": [
       "array(['CRIM', 'ZN', 'INDUS', 'CHAS', 'NOX', 'RM', 'AGE', 'DIS', 'RAD',\n",
       "       'TAX', 'PTRATIO', 'B', 'LSTAT'], dtype='<U7')"
      ]
     },
     "execution_count": 4,
     "metadata": {},
     "output_type": "execute_result"
    }
   ],
   "source": [
    "boston.feature_names\n"
   ]
  },
  {
   "cell_type": "code",
   "execution_count": 5,
   "id": "0b4a0646",
   "metadata": {
    "scrolled": true
   },
   "outputs": [
    {
     "data": {
      "text/plain": [
       "array([[6.3200e-03, 1.8000e+01, 2.3100e+00, ..., 1.5300e+01, 3.9690e+02,\n",
       "        4.9800e+00],\n",
       "       [2.7310e-02, 0.0000e+00, 7.0700e+00, ..., 1.7800e+01, 3.9690e+02,\n",
       "        9.1400e+00],\n",
       "       [2.7290e-02, 0.0000e+00, 7.0700e+00, ..., 1.7800e+01, 3.9283e+02,\n",
       "        4.0300e+00],\n",
       "       ...,\n",
       "       [6.0760e-02, 0.0000e+00, 1.1930e+01, ..., 2.1000e+01, 3.9690e+02,\n",
       "        5.6400e+00],\n",
       "       [1.0959e-01, 0.0000e+00, 1.1930e+01, ..., 2.1000e+01, 3.9345e+02,\n",
       "        6.4800e+00],\n",
       "       [4.7410e-02, 0.0000e+00, 1.1930e+01, ..., 2.1000e+01, 3.9690e+02,\n",
       "        7.8800e+00]])"
      ]
     },
     "execution_count": 5,
     "metadata": {},
     "output_type": "execute_result"
    }
   ],
   "source": [
    "boston.data"
   ]
  },
  {
   "cell_type": "code",
   "execution_count": 6,
   "id": "2924bf51",
   "metadata": {},
   "outputs": [
    {
     "name": "stdout",
     "output_type": "stream",
     "text": [
      "        CRIM    ZN  INDUS  CHAS    NOX     RM   AGE     DIS  RAD    TAX  \\\n",
      "0    0.00632  18.0   2.31   0.0  0.538  6.575  65.2  4.0900  1.0  296.0   \n",
      "1    0.02731   0.0   7.07   0.0  0.469  6.421  78.9  4.9671  2.0  242.0   \n",
      "2    0.02729   0.0   7.07   0.0  0.469  7.185  61.1  4.9671  2.0  242.0   \n",
      "3    0.03237   0.0   2.18   0.0  0.458  6.998  45.8  6.0622  3.0  222.0   \n",
      "4    0.06905   0.0   2.18   0.0  0.458  7.147  54.2  6.0622  3.0  222.0   \n",
      "..       ...   ...    ...   ...    ...    ...   ...     ...  ...    ...   \n",
      "501  0.06263   0.0  11.93   0.0  0.573  6.593  69.1  2.4786  1.0  273.0   \n",
      "502  0.04527   0.0  11.93   0.0  0.573  6.120  76.7  2.2875  1.0  273.0   \n",
      "503  0.06076   0.0  11.93   0.0  0.573  6.976  91.0  2.1675  1.0  273.0   \n",
      "504  0.10959   0.0  11.93   0.0  0.573  6.794  89.3  2.3889  1.0  273.0   \n",
      "505  0.04741   0.0  11.93   0.0  0.573  6.030  80.8  2.5050  1.0  273.0   \n",
      "\n",
      "     PTRATIO       B  LSTAT  \n",
      "0       15.3  396.90   4.98  \n",
      "1       17.8  396.90   9.14  \n",
      "2       17.8  392.83   4.03  \n",
      "3       18.7  394.63   2.94  \n",
      "4       18.7  396.90   5.33  \n",
      "..       ...     ...    ...  \n",
      "501     21.0  391.99   9.67  \n",
      "502     21.0  396.90   9.08  \n",
      "503     21.0  396.90   5.64  \n",
      "504     21.0  393.45   6.48  \n",
      "505     21.0  396.90   7.88  \n",
      "\n",
      "[506 rows x 13 columns]\n",
      "        0\n",
      "0    24.0\n",
      "1    21.6\n",
      "2    34.7\n",
      "3    33.4\n",
      "4    36.2\n",
      "..    ...\n",
      "501  22.4\n",
      "502  20.6\n",
      "503  23.9\n",
      "504  22.0\n",
      "505  11.9\n",
      "\n",
      "[506 rows x 1 columns]\n"
     ]
    }
   ],
   "source": [
    "# Preparation de la base de données pour la régression linéaire\n",
    "df_x= pd.DataFrame(boston.data,columns = boston.feature_names)\n",
    "df_y=pd.DataFrame(boston.target)\n",
    "print(df_x)\n",
    "print(df_y)\n"
   ]
  },
  {
   "cell_type": "code",
   "execution_count": 7,
   "id": "29564dc3",
   "metadata": {},
   "outputs": [],
   "source": [
    "# Création du modéle \n",
    "reg = linear_model.LinearRegression()"
   ]
  },
  {
   "cell_type": "code",
   "execution_count": 8,
   "id": "431c650b",
   "metadata": {},
   "outputs": [
    {
     "data": {
      "text/plain": [
       "(404, 13)"
      ]
     },
     "execution_count": 8,
     "metadata": {},
     "output_type": "execute_result"
    }
   ],
   "source": [
    "# base de données d'entrainement\n",
    "x_train,x_test,y_train,y_test=train_test_split(df_x,df_y,test_size=0.2,random_state=42)\n",
    "x_train.shape"
   ]
  },
  {
   "cell_type": "code",
   "execution_count": 9,
   "id": "196ee2f6",
   "metadata": {},
   "outputs": [
    {
     "data": {
      "text/plain": [
       "LinearRegression()"
      ]
     },
     "execution_count": 9,
     "metadata": {},
     "output_type": "execute_result"
    }
   ],
   "source": [
    "#Entrainement du modèle \n",
    "reg.fit(x_train,y_train)\n"
   ]
  },
  {
   "cell_type": "code",
   "execution_count": 11,
   "id": "ab8c39b3",
   "metadata": {},
   "outputs": [
    {
     "name": "stdout",
     "output_type": "stream",
     "text": [
      "[[28.99672362]\n",
      " [36.02556534]\n",
      " [14.81694405]\n",
      " [25.03197915]\n",
      " [18.76987992]\n",
      " [23.25442929]\n",
      " [17.66253818]\n",
      " [14.34119   ]\n",
      " [23.01320703]\n",
      " [20.63245597]\n",
      " [24.90850512]\n",
      " [18.63883645]\n",
      " [-6.08842184]\n",
      " [21.75834668]\n",
      " [19.23922576]\n",
      " [26.19319733]\n",
      " [20.64773313]\n",
      " [ 5.79472718]\n",
      " [40.50033966]\n",
      " [17.61289074]\n",
      " [27.24909479]\n",
      " [30.06625441]\n",
      " [11.34179277]\n",
      " [24.16077616]\n",
      " [17.86058499]\n",
      " [15.83609765]\n",
      " [22.78148106]\n",
      " [14.57704449]\n",
      " [22.43626052]\n",
      " [19.19631835]\n",
      " [22.43383455]\n",
      " [25.21979081]\n",
      " [25.93909562]\n",
      " [17.70162434]\n",
      " [16.76911711]\n",
      " [16.95125411]\n",
      " [31.23340153]\n",
      " [20.13246729]\n",
      " [23.76579011]\n",
      " [24.6322925 ]\n",
      " [13.94204955]\n",
      " [32.25576301]\n",
      " [42.67251161]\n",
      " [17.32745046]\n",
      " [27.27618614]\n",
      " [16.99310991]\n",
      " [14.07009109]\n",
      " [25.90341861]\n",
      " [20.29485982]\n",
      " [29.95339638]\n",
      " [21.28860173]\n",
      " [34.34451856]\n",
      " [16.04739105]\n",
      " [26.22562412]\n",
      " [39.53939798]\n",
      " [22.57950697]\n",
      " [18.84531367]\n",
      " [32.72531661]\n",
      " [25.0673037 ]\n",
      " [12.88628956]\n",
      " [22.68221908]\n",
      " [30.48287757]\n",
      " [31.52626806]\n",
      " [15.90148607]\n",
      " [20.22094826]\n",
      " [16.71089812]\n",
      " [20.52384893]\n",
      " [25.96356264]\n",
      " [30.61607978]\n",
      " [11.59783023]\n",
      " [20.51232627]\n",
      " [27.48111878]\n",
      " [11.01962332]\n",
      " [15.68096344]\n",
      " [23.79316251]\n",
      " [ 6.19929359]\n",
      " [21.6039073 ]\n",
      " [41.41377225]\n",
      " [18.76548695]\n",
      " [ 8.87931901]\n",
      " [20.83076916]\n",
      " [13.25620627]\n",
      " [20.73963699]\n",
      " [ 9.36482222]\n",
      " [23.22444271]\n",
      " [31.9155003 ]\n",
      " [19.10228271]\n",
      " [25.51579303]\n",
      " [29.04256769]\n",
      " [20.14358566]\n",
      " [25.5859787 ]\n",
      " [ 5.70159447]\n",
      " [20.09474756]\n",
      " [14.95069156]\n",
      " [12.50395648]\n",
      " [20.72635294]\n",
      " [24.73957161]\n",
      " [-0.164237  ]\n",
      " [13.68486682]\n",
      " [16.18359697]\n",
      " [22.27621999]\n",
      " [24.47902364]]\n"
     ]
    }
   ],
   "source": [
    "#Faire des prédictions en utilisant le modéle\n",
    "y_pred = reg.predict(x_test)\n",
    "print(y_pred)\n"
   ]
  },
  {
   "cell_type": "code",
   "execution_count": 12,
   "id": "0bc79944",
   "metadata": {},
   "outputs": [
    {
     "name": "stdout",
     "output_type": "stream",
     "text": [
      "        0\n",
      "173  23.6\n",
      "274  32.4\n",
      "491  13.6\n",
      "72   22.8\n",
      "452  16.1\n",
      "..    ...\n",
      "412  17.9\n",
      "436   9.6\n",
      "411  17.2\n",
      "86   22.5\n",
      "75   21.4\n",
      "\n",
      "[102 rows x 1 columns]\n"
     ]
    }
   ],
   "source": [
    "print(y_test)"
   ]
  },
  {
   "cell_type": "code",
   "execution_count": 15,
   "id": "3911e166",
   "metadata": {},
   "outputs": [
    {
     "name": "stdout",
     "output_type": "stream",
     "text": [
      "0    24.291119\n",
      "dtype: float64\n"
     ]
    }
   ],
   "source": [
    "#Calculer la performance du modéle en utilisant MSE\n",
    "print(np.mean((y_test-y_pred)**2))"
   ]
  },
  {
   "cell_type": "code",
   "execution_count": 22,
   "id": "5ca129d0",
   "metadata": {},
   "outputs": [
    {
     "name": "stdout",
     "output_type": "stream",
     "text": [
      "24.291119474973456\n"
     ]
    }
   ],
   "source": [
    "from sklearn.metrics import mean_squared_error\n",
    "print(mean_squared_error(y_test, y_pred))"
   ]
  },
  {
   "cell_type": "code",
   "execution_count": null,
   "id": "86c8e908",
   "metadata": {},
   "outputs": [],
   "source": []
  }
 ],
 "metadata": {
  "kernelspec": {
   "display_name": "Python 3 (ipykernel)",
   "language": "python",
   "name": "python3"
  },
  "language_info": {
   "codemirror_mode": {
    "name": "ipython",
    "version": 3
   },
   "file_extension": ".py",
   "mimetype": "text/x-python",
   "name": "python",
   "nbconvert_exporter": "python",
   "pygments_lexer": "ipython3",
   "version": "3.9.13"
  }
 },
 "nbformat": 4,
 "nbformat_minor": 5
}
